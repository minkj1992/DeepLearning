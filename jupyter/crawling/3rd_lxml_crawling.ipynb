{
 "cells": [
  {
   "cell_type": "code",
   "execution_count": 16,
   "metadata": {},
   "outputs": [],
   "source": [
    "import feedparser\n",
    "\n",
    "feed = feedparser.parse(\"https://www.coindesk.com/feed/\")\n",
    "\n",
    "coindesk_urls = []\n",
    "\n",
    "for entry in feed['entries']:\n",
    "    coindesk_urls.append(entry['link'])"
   ]
  },
  {
   "cell_type": "code",
   "execution_count": 17,
   "metadata": {},
   "outputs": [
    {
     "data": {
      "text/plain": [
       "'https://www.coindesk.com/binance-partners-with-malta-to-launch-security-token-trading-platform/'"
      ]
     },
     "execution_count": 17,
     "metadata": {},
     "output_type": "execute_result"
    }
   ],
   "source": [
    "coindesk_urls[0] #첫번째 url"
   ]
  },
  {
   "cell_type": "code",
   "execution_count": 18,
   "metadata": {},
   "outputs": [],
   "source": [
    "# request를 통해서 url get으로 호출, resp는 호출 받은 내용이 들어있다.\n",
    "# resp.text를 하면 html 타입으로 코드가 들어온다.\n",
    "import requests\n",
    "\n",
    "resp = requests.get(coindesk_urls[0])\n"
   ]
  },
  {
   "cell_type": "code",
   "execution_count": 19,
   "metadata": {},
   "outputs": [],
   "source": [
    "from bs4 import BeautifulSoup as bs\n",
    "\n",
    "# resp.text를 html parse해준다. wrap\n",
    "soup = bs(resp.text, \"html.parser\")"
   ]
  },
  {
   "cell_type": "code",
   "execution_count": 28,
   "metadata": {},
   "outputs": [
    {
     "data": {
      "text/plain": [
       "<div class=\"article-content-container noskimwords\">\n",
       "<p>Binance, the world's largest crypto exchange by volume, is teaming up with the Malta Stock Exchange (MSX) to enable security token trading on the \"blockchain island,\" a local news site reported Tuesday.</p>\n",
       "<p>The exchange's chief financial officer, Wei Zhou, signed a memorandum of understanding with MSX chairman Joe Portelli to launch a security token trading platform, Malta Today <a data-wpel-link=\"external\" href=\"https://www.maltatoday.com.mt/business/business_news/89402/binance_and_malta_stock_exchange_to_launch_security_tokens_trading_platform#.W5gS3ZNKhQK\" rel=\"noopener external noreferrer\" target=\"_blank\">reported</a>.</p>\n",
       "<p>Malta's finance minister, Edward Scicluna, praised the crypto industry during a press conference, saying the nation will not miss an opportunity to take advantage of new innovations.</p>\n",
       "<p>Although blockchain and cryptocurrencies have their risks, \"this is not an excuse to let it go by and be taken up by others,\" he said. <div id=\"top-id\"></div>\n",
       "</p>\n",
       "<p>Portelli agreed, saying at the press conference that \"whether you like it or not, the technology is here to stay.\"</p>\n",
       "<p>Scicluna also noted that the country committed its best legal minds to creating an appropriate regulatory framework for the crypto industry. MSX in particular had established a new entity, the MSX PLC, specifically to explore financial technology and digital assets.</p>\n",
       "<p>Binance has been working with Malta's authorities for a while: in March, the company announced plans to set up an office and fiat-to-cryptocurrency exchange in Malta, and in June, it said it would support fintech startups and entrepreneurs together with the Malta Stock Exchange.</p>\n",
       "<p>In July, MSX <a data-wpel-link=\"internal\" href=\"https://www.coindesk.com/malta-stock-exchange-partners-to-build-global-token-exchange/\" rel=\"noopener\" target=\"_blank\">teamed up with Neufund</a>, a platform for securities tokenization, to build a \"regulated and decentralized, global stock exchange for listing and trading tokenized securities alongside crypto-assets.\" At the same time, Binance <a data-wpel-link=\"internal\" href=\"https://www.coindesk.com/binance-exchange-backs-first-ever-decentralized-bank-in-malta/\" rel=\"noopener\" target=\"_blank\">acquired</a> a 5 percent stake in the Founders Bank in Malta, aiming to build a \"decentralized bank\" with a system based on blockchain. The bank was planning to partner with Neufund to issue its own \"legally-binding\" equity tokens.</p>\n",
       "<p><em>Malta flag image via Shutterstock</em></p>\n",
       "</div>"
      ]
     },
     "execution_count": 28,
     "metadata": {},
     "output_type": "execute_result"
    }
   ],
   "source": [
    "# type(resp.text)    str\n",
    "# type(soup)    bs4.BeautifulSoup\n",
    "# div tag안의 class  \n",
    "soup_body = soup.find(\"div\",{\"class\":\"article-content-container noskimwords\"})\n",
    "\n",
    "end_point = soup_body.find(\"em\")\n",
    "\n",
    "soup_body\n"
   ]
  },
  {
   "cell_type": "code",
   "execution_count": 26,
   "metadata": {},
   "outputs": [],
   "source": [
    "# soup_body.find_all(\"em\")\n",
    "body_elem = []\n",
    "for elem in end_point.parent.previous_siblings:\n",
    "    body_elem.append(elem)\n"
   ]
  },
  {
   "cell_type": "code",
   "execution_count": 37,
   "metadata": {},
   "outputs": [
    {
     "name": "stdout",
     "output_type": "stream",
     "text": [
      "Binance, the world's largest crypto exchange by volume, is teaming up with the Malta Stock Exchange (MSX) to enable security token trading on the \"blockchain island,\" a local news site reported Tuesday.\n",
      "The exchange's chief financial officer, Wei Zhou, signed a memorandum of understanding with MSX chairman Joe Portelli to launch a security token trading platform, Malta Today reported.\n",
      "Malta's finance minister, Edward Scicluna, praised the crypto industry during a press conference, saying the nation will not miss an opportunity to take advantage of new innovations.\n",
      "Although blockchain and cryptocurrencies have their risks, \"this is not an excuse to let it go by and be taken up by others,\" he said. \n",
      "\n",
      "Portelli agreed, saying at the press conference that \"whether you like it or not, the technology is here to stay.\"\n",
      "Scicluna also noted that the country committed its best legal minds to creating an appropriate regulatory framework for the crypto industry. MSX in particular had established a new entity, the MSX PLC, specifically to explore financial technology and digital assets.\n",
      "Binance has been working with Malta's authorities for a while: in March, the company announced plans to set up an office and fiat-to-cryptocurrency exchange in Malta, and in June, it said it would support fintech startups and entrepreneurs together with the Malta Stock Exchange.\n",
      "In July, MSX teamed up with Neufund, a platform for securities tokenization, to build a \"regulated and decentralized, global stock exchange for listing and trading tokenized securities alongside crypto-assets.\" At the same time, Binance acquired a 5 percent stake in the Founders Bank in Malta, aiming to build a \"decentralized bank\" with a system based on blockchain. The bank was planning to partner with Neufund to issue its own \"legally-binding\" equity tokens.\n"
     ]
    }
   ],
   "source": [
    "# a = ['a','b','c']\n",
    "# \" \".join(a[::-1])\n",
    "\n",
    "\n",
    "# NavigableString 변환된 녀석들때문에 str으로 바로 저장안됨\n",
    "# 이 객체들은 바로 text로 변환이 안되고 None이 된다.\n",
    "# \" \".join(body_elem[::-1])\n",
    "\n",
    "body_text = []\n",
    "\n",
    "for elem in body_elem[::-1]:\n",
    "    try:\n",
    "        body_text.append(elem.text)\n",
    "    except:\n",
    "        pass\n",
    "    \n",
    "print(\"\\n\".join(body_text))\n"
   ]
  },
  {
   "cell_type": "code",
   "execution_count": 39,
   "metadata": {},
   "outputs": [
    {
     "data": {
      "text/plain": [
       "'c\\nb\\na'"
      ]
     },
     "execution_count": 39,
     "metadata": {},
     "output_type": "execute_result"
    }
   ],
   "source": [
    "# lxml , cssselect\n",
    "# BeautifulSoup보다는 lxml이 처리속도가 빠르고, 에러가 없는편이어서 저는 lxml을 주로 쓰는 편입니다.\n",
    "\n"
   ]
  },
  {
   "cell_type": "code",
   "execution_count": null,
   "metadata": {},
   "outputs": [],
   "source": []
  }
 ],
 "metadata": {
  "kernelspec": {
   "display_name": "Python 3",
   "language": "python",
   "name": "python3"
  },
  "language_info": {
   "codemirror_mode": {
    "name": "ipython",
    "version": 3
   },
   "file_extension": ".py",
   "mimetype": "text/x-python",
   "name": "python",
   "nbconvert_exporter": "python",
   "pygments_lexer": "ipython3",
   "version": "3.6.5"
  }
 },
 "nbformat": 4,
 "nbformat_minor": 2
}
