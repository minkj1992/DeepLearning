{
 "cells": [
  {
   "cell_type": "code",
   "execution_count": 1,
   "metadata": {},
   "outputs": [],
   "source": [
    "# /home/minkj1992/다운로드/chromedriver\n",
    "# 참고해야할 자료 https://medium.com/@peteryun/python-selenium%EC%9D%84-%ED%99%9C%EC%9A%A9%ED%95%9C-%ED%81%AC%EB%A1%A4%EB%9F%AC-%EB%A7%8C%EB%93%A4%EA%B8%B0-b055cefd1195\n",
    "\n",
    "\n",
    "from selenium import webdriver\n",
    "\n",
    "my_id = 'jmuj2001'\n",
    "my_pw = 'wpalsdnr1!'\n",
    "\n",
    "# chrome 드라이버 부착\n",
    "driver = webdriver.Chrome('/home/minkj1992/다운로드/chromedriver')\n",
    "\n",
    "# 웹자원 로드 3초 wait\n",
    "driver.implicitly_wait(10)\n",
    "# driver를 통해 ajou login\n",
    "driver.get(\"https://sso.ajou.ac.kr/jsp/sso/ip/login_form.jsp\")\n",
    "# site name = userId,password\n",
    "# driver.find_element_by_name('userId').send_keys(my_id)\n",
    "# driver.find_element_by_name('password').send_keys(my_pw)\n",
    "\n",
    "# driver.find_element_by_xpath('//*[@id=\"loginSubmit\"]').click()\n",
    "\n",
    "# 시도 실패 .jsp 구조가 어떤것인지 모르겠으나 url상에 .jsp를 입력하니 이동이 되지 않음"
   ]
  },
  {
   "cell_type": "code",
   "execution_count": 15,
   "metadata": {},
   "outputs": [
    {
     "ename": "ElementNotVisibleException",
     "evalue": "Message: element not interactable\n  (Session info: chrome=68.0.3440.106)\n  (Driver info: chromedriver=2.42.591071 (0b695ff80972cc1a65a5cd643186d2ae582cd4ac),platform=Linux 4.15.0-34-generic x86_64)\n",
     "output_type": "error",
     "traceback": [
      "\u001b[0;31m---------------------------------------------------------------------------\u001b[0m",
      "\u001b[0;31mElementNotVisibleException\u001b[0m                Traceback (most recent call last)",
      "\u001b[0;32m<ipython-input-15-814d8770879a>\u001b[0m in \u001b[0;36m<module>\u001b[0;34m()\u001b[0m\n\u001b[1;32m     16\u001b[0m \u001b[0;34m\u001b[0m\u001b[0m\n\u001b[1;32m     17\u001b[0m \u001b[0melem\u001b[0m \u001b[0;34m=\u001b[0m \u001b[0mdriver\u001b[0m\u001b[0;34m.\u001b[0m\u001b[0mfind_element_by_class_name\u001b[0m\u001b[0;34m(\u001b[0m\u001b[0;34m\"nb-h-icon-signIn\"\u001b[0m\u001b[0;34m)\u001b[0m\u001b[0;34m\u001b[0m\u001b[0m\n\u001b[0;32m---> 18\u001b[0;31m \u001b[0melem\u001b[0m\u001b[0;34m.\u001b[0m\u001b[0mclick\u001b[0m\u001b[0;34m(\u001b[0m\u001b[0;34m)\u001b[0m\u001b[0;34m\u001b[0m\u001b[0m\n\u001b[0m\u001b[1;32m     19\u001b[0m \u001b[0mdriver\u001b[0m\u001b[0;34m.\u001b[0m\u001b[0mfind_element_by_name\u001b[0m\u001b[0;34m(\u001b[0m\u001b[0;34m'userId'\u001b[0m\u001b[0;34m)\u001b[0m\u001b[0;34m.\u001b[0m\u001b[0msend_keys\u001b[0m\u001b[0;34m(\u001b[0m\u001b[0mmy_id\u001b[0m\u001b[0;34m)\u001b[0m\u001b[0;34m\u001b[0m\u001b[0m\n\u001b[1;32m     20\u001b[0m \u001b[0mdriver\u001b[0m\u001b[0;34m.\u001b[0m\u001b[0mfind_element_by_name\u001b[0m\u001b[0;34m(\u001b[0m\u001b[0;34m'password'\u001b[0m\u001b[0;34m)\u001b[0m\u001b[0;34m.\u001b[0m\u001b[0msend_keys\u001b[0m\u001b[0;34m(\u001b[0m\u001b[0mmy_pw\u001b[0m\u001b[0;34m)\u001b[0m\u001b[0;34m\u001b[0m\u001b[0m\n",
      "\u001b[0;32m~/anaconda3/lib/python3.6/site-packages/selenium/webdriver/remote/webelement.py\u001b[0m in \u001b[0;36mclick\u001b[0;34m(self)\u001b[0m\n\u001b[1;32m     78\u001b[0m     \u001b[0;32mdef\u001b[0m \u001b[0mclick\u001b[0m\u001b[0;34m(\u001b[0m\u001b[0mself\u001b[0m\u001b[0;34m)\u001b[0m\u001b[0;34m:\u001b[0m\u001b[0;34m\u001b[0m\u001b[0m\n\u001b[1;32m     79\u001b[0m         \u001b[0;34m\"\"\"Clicks the element.\"\"\"\u001b[0m\u001b[0;34m\u001b[0m\u001b[0m\n\u001b[0;32m---> 80\u001b[0;31m         \u001b[0mself\u001b[0m\u001b[0;34m.\u001b[0m\u001b[0m_execute\u001b[0m\u001b[0;34m(\u001b[0m\u001b[0mCommand\u001b[0m\u001b[0;34m.\u001b[0m\u001b[0mCLICK_ELEMENT\u001b[0m\u001b[0;34m)\u001b[0m\u001b[0;34m\u001b[0m\u001b[0m\n\u001b[0m\u001b[1;32m     81\u001b[0m \u001b[0;34m\u001b[0m\u001b[0m\n\u001b[1;32m     82\u001b[0m     \u001b[0;32mdef\u001b[0m \u001b[0msubmit\u001b[0m\u001b[0;34m(\u001b[0m\u001b[0mself\u001b[0m\u001b[0;34m)\u001b[0m\u001b[0;34m:\u001b[0m\u001b[0;34m\u001b[0m\u001b[0m\n",
      "\u001b[0;32m~/anaconda3/lib/python3.6/site-packages/selenium/webdriver/remote/webelement.py\u001b[0m in \u001b[0;36m_execute\u001b[0;34m(self, command, params)\u001b[0m\n\u001b[1;32m    626\u001b[0m             \u001b[0mparams\u001b[0m \u001b[0;34m=\u001b[0m \u001b[0;34m{\u001b[0m\u001b[0;34m}\u001b[0m\u001b[0;34m\u001b[0m\u001b[0m\n\u001b[1;32m    627\u001b[0m         \u001b[0mparams\u001b[0m\u001b[0;34m[\u001b[0m\u001b[0;34m'id'\u001b[0m\u001b[0;34m]\u001b[0m \u001b[0;34m=\u001b[0m \u001b[0mself\u001b[0m\u001b[0;34m.\u001b[0m\u001b[0m_id\u001b[0m\u001b[0;34m\u001b[0m\u001b[0m\n\u001b[0;32m--> 628\u001b[0;31m         \u001b[0;32mreturn\u001b[0m \u001b[0mself\u001b[0m\u001b[0;34m.\u001b[0m\u001b[0m_parent\u001b[0m\u001b[0;34m.\u001b[0m\u001b[0mexecute\u001b[0m\u001b[0;34m(\u001b[0m\u001b[0mcommand\u001b[0m\u001b[0;34m,\u001b[0m \u001b[0mparams\u001b[0m\u001b[0;34m)\u001b[0m\u001b[0;34m\u001b[0m\u001b[0m\n\u001b[0m\u001b[1;32m    629\u001b[0m \u001b[0;34m\u001b[0m\u001b[0m\n\u001b[1;32m    630\u001b[0m     \u001b[0;32mdef\u001b[0m \u001b[0mfind_element\u001b[0m\u001b[0;34m(\u001b[0m\u001b[0mself\u001b[0m\u001b[0;34m,\u001b[0m \u001b[0mby\u001b[0m\u001b[0;34m=\u001b[0m\u001b[0mBy\u001b[0m\u001b[0;34m.\u001b[0m\u001b[0mID\u001b[0m\u001b[0;34m,\u001b[0m \u001b[0mvalue\u001b[0m\u001b[0;34m=\u001b[0m\u001b[0;32mNone\u001b[0m\u001b[0;34m)\u001b[0m\u001b[0;34m:\u001b[0m\u001b[0;34m\u001b[0m\u001b[0m\n",
      "\u001b[0;32m~/anaconda3/lib/python3.6/site-packages/selenium/webdriver/remote/webdriver.py\u001b[0m in \u001b[0;36mexecute\u001b[0;34m(self, driver_command, params)\u001b[0m\n\u001b[1;32m    318\u001b[0m         \u001b[0mresponse\u001b[0m \u001b[0;34m=\u001b[0m \u001b[0mself\u001b[0m\u001b[0;34m.\u001b[0m\u001b[0mcommand_executor\u001b[0m\u001b[0;34m.\u001b[0m\u001b[0mexecute\u001b[0m\u001b[0;34m(\u001b[0m\u001b[0mdriver_command\u001b[0m\u001b[0;34m,\u001b[0m \u001b[0mparams\u001b[0m\u001b[0;34m)\u001b[0m\u001b[0;34m\u001b[0m\u001b[0m\n\u001b[1;32m    319\u001b[0m         \u001b[0;32mif\u001b[0m \u001b[0mresponse\u001b[0m\u001b[0;34m:\u001b[0m\u001b[0;34m\u001b[0m\u001b[0m\n\u001b[0;32m--> 320\u001b[0;31m             \u001b[0mself\u001b[0m\u001b[0;34m.\u001b[0m\u001b[0merror_handler\u001b[0m\u001b[0;34m.\u001b[0m\u001b[0mcheck_response\u001b[0m\u001b[0;34m(\u001b[0m\u001b[0mresponse\u001b[0m\u001b[0;34m)\u001b[0m\u001b[0;34m\u001b[0m\u001b[0m\n\u001b[0m\u001b[1;32m    321\u001b[0m             response['value'] = self._unwrap_value(\n\u001b[1;32m    322\u001b[0m                 response.get('value', None))\n",
      "\u001b[0;32m~/anaconda3/lib/python3.6/site-packages/selenium/webdriver/remote/errorhandler.py\u001b[0m in \u001b[0;36mcheck_response\u001b[0;34m(self, response)\u001b[0m\n\u001b[1;32m    240\u001b[0m                 \u001b[0malert_text\u001b[0m \u001b[0;34m=\u001b[0m \u001b[0mvalue\u001b[0m\u001b[0;34m[\u001b[0m\u001b[0;34m'alert'\u001b[0m\u001b[0;34m]\u001b[0m\u001b[0;34m.\u001b[0m\u001b[0mget\u001b[0m\u001b[0;34m(\u001b[0m\u001b[0;34m'text'\u001b[0m\u001b[0;34m)\u001b[0m\u001b[0;34m\u001b[0m\u001b[0m\n\u001b[1;32m    241\u001b[0m             \u001b[0;32mraise\u001b[0m \u001b[0mexception_class\u001b[0m\u001b[0;34m(\u001b[0m\u001b[0mmessage\u001b[0m\u001b[0;34m,\u001b[0m \u001b[0mscreen\u001b[0m\u001b[0;34m,\u001b[0m \u001b[0mstacktrace\u001b[0m\u001b[0;34m,\u001b[0m \u001b[0malert_text\u001b[0m\u001b[0;34m)\u001b[0m\u001b[0;34m\u001b[0m\u001b[0m\n\u001b[0;32m--> 242\u001b[0;31m         \u001b[0;32mraise\u001b[0m \u001b[0mexception_class\u001b[0m\u001b[0;34m(\u001b[0m\u001b[0mmessage\u001b[0m\u001b[0;34m,\u001b[0m \u001b[0mscreen\u001b[0m\u001b[0;34m,\u001b[0m \u001b[0mstacktrace\u001b[0m\u001b[0;34m)\u001b[0m\u001b[0;34m\u001b[0m\u001b[0m\n\u001b[0m\u001b[1;32m    243\u001b[0m \u001b[0;34m\u001b[0m\u001b[0m\n\u001b[1;32m    244\u001b[0m     \u001b[0;32mdef\u001b[0m \u001b[0m_value_or_default\u001b[0m\u001b[0;34m(\u001b[0m\u001b[0mself\u001b[0m\u001b[0;34m,\u001b[0m \u001b[0mobj\u001b[0m\u001b[0;34m,\u001b[0m \u001b[0mkey\u001b[0m\u001b[0;34m,\u001b[0m \u001b[0mdefault\u001b[0m\u001b[0;34m)\u001b[0m\u001b[0;34m:\u001b[0m\u001b[0;34m\u001b[0m\u001b[0m\n",
      "\u001b[0;31mElementNotVisibleException\u001b[0m: Message: element not interactable\n  (Session info: chrome=68.0.3440.106)\n  (Driver info: chromedriver=2.42.591071 (0b695ff80972cc1a65a5cd643186d2ae582cd4ac),platform=Linux 4.15.0-34-generic x86_64)\n"
     ]
    }
   ],
   "source": [
    "# 시도 2\n",
    "\n",
    "# 홈페이지에 접속해서\n",
    "# 로그인 파트를 click 하고 이후 코드를 진행하려 하였으나, ElementNotVisibleException 이 적용되었다.\n",
    "from selenium.webdriver.common.keys import Keys\n",
    "from selenium import webdriver\n",
    "\n",
    "my_id = 'jmuj2001'\n",
    "my_pw = 'wpalsdnr1!'\n",
    "\n",
    "# chrome 드라이버 부착\n",
    "driver = webdriver.Chrome('/home/minkj1992/다운로드/chromedriver')\n",
    "\n",
    "# 웹자원 로드 3초 wait\n",
    "driver.implicitly_wait(3)\n",
    "# driver를 통해 ajou login\n",
    "driver.get(\"https://mportal.ajou.ac.kr/main.do\")\n",
    "driver.implicitly_wait(5)\n",
    "\n",
    "elem = driver.find_element_by_class_name(\"nb-h-icon-signIn\")\n",
    "elem.click()\n",
    "driver.find_element_by_name('userId').send_keys(my_id)\n",
    "driver.find_element_by_name('password').send_keys(my_pw)\n",
    "driver.find_element_by_xpath('//*[@id=\"loginSubmit\"]').click()\n",
    "\n",
    "\n",
    "# elem = br.find_element_by_name(\"username\")\n",
    "elem.send_keys(Keys.TAB) # tab over to not-visible element"
   ]
  },
  {
   "cell_type": "markdown",
   "metadata": {},
   "source": [
    "# jsp 란\n",
    "> jsp = JavaServer Pages, 웹사이트를 쉽게 구축할 수 있도록 만들어주는 서버사이드 스크립트 언어이다.\n",
    "\n",
    "웹브라우저 -> 웹서버 -> 어플리케이션 서버 -> DB\n",
    "\n",
    "+ 웹브라우저: 크롬, 파이어폭스등\n",
    "+ 웹서버: HTMl css에 초점이 맞춰져있는 서버, 주로 Static page, Apache같은 것\n",
    "+ 어플리케이션 서버: 서블릿이나 jsp 스크립트를 가지고 Dynamic page를 처리하는데, 그 스크립트를 번역해주는 녀석이 어플리케이션 서버이다. 예를 들면 Tomcat, JBoss\n",
    "\n",
    "+ 서블릿(servlet, 실행코드방식): Java로 웹개발을 위해 만든 표준,(java code-> compile -> class file -> dynamic page)\n",
    "\n",
    "+ Jsp(스크립트방식): 서블릿 페이지 조금만 수정하려 하면 코드수정, 컴파일, 클래스파일 copy paste 작업을 반복해야 되서 느려진다. 이를 보완하기 위해 스크립트 방식 표준이 Jsp를 만들었다. 서블릿처럼 코드 컴파일 및 클래스파일 modify를 톰캣이 알아서 해주고, jsp는 그저 코드 수정만 하면 된다.\n",
    "\n",
    "# 실행코드방식 vs 스크립트방식\n",
    "\n",
    "+ 실행코드방식: 웹서버에서 직접 프로그램을 호출\n",
    "\n",
    "\n"
   ]
  },
  {
   "cell_type": "code",
   "execution_count": 3,
   "metadata": {},
   "outputs": [],
   "source": [
    "# https://mportal.ajou.ac.kr/login/index.do\n",
    "# https://mportal.ajou.ac.kr/common/auth/SSOLogin.do\n",
    "\n",
    "# portal에서 로그인 link a_tag를 보니까 javascript로직으로 if 분기되어있었다. 그곳에서 href를 따와서 url에 연결하니 연결이 되었다.\n",
    "\n",
    "\n",
    "from selenium import webdriver\n",
    "\n",
    "def ajou_login():\n",
    "    \n",
    "    my_id = 'jmuj2001'\n",
    "    my_pw = 'wpalsdnr1!'\n",
    "\n",
    "    # chrome 드라이버 부착\n",
    "    driver = webdriver.Chrome('/home/minkj1992/다운로드/chromedriver')\n",
    "\n",
    "    # 웹자원 로드 3초 wait\n",
    "    driver.implicitly_wait(3)\n",
    "    # driver를 통해 ajou login\n",
    "    driver.get(\"https://mportal.ajou.ac.kr/common/auth/SSOLogin.do\")\n",
    "    # site name = userId,password\n",
    "    driver.find_element_by_name('userId').send_keys(my_id)\n",
    "    driver.find_element_by_name('password').send_keys(my_pw)\n",
    "\n",
    "    driver.find_element_by_xpath('//*[@id=\"loginSubmit\"]').click()\n",
    "\n",
    "    # https://mportal.ajou.ac.kr/login/index.do로 하였을때는 click이 되지 않았는데 \n",
    "    # https://mportal.ajou.ac.kr/common/auth/SSOLogin.do로 하니까 로그인까지 실행된다."
   ]
  },
  {
   "cell_type": "code",
   "execution_count": null,
   "metadata": {},
   "outputs": [],
   "source": []
  }
 ],
 "metadata": {
  "kernelspec": {
   "display_name": "Python 3",
   "language": "python",
   "name": "python3"
  },
  "language_info": {
   "codemirror_mode": {
    "name": "ipython",
    "version": 3
   },
   "file_extension": ".py",
   "mimetype": "text/x-python",
   "name": "python",
   "nbconvert_exporter": "python",
   "pygments_lexer": "ipython3",
   "version": "3.6.5"
  }
 },
 "nbformat": 4,
 "nbformat_minor": 2
}
