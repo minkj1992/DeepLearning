{
 "cells": [
  {
   "cell_type": "markdown",
   "metadata": {},
   "source": [
    "# 제3자 효과\n",
    "\n",
    "http://commres.net/wiki/%EC%A0%9C3%EC%9E%90_%ED%9A%A8%EA%B3%BC%EC%9D%B4%EB%A1%A0%EA%B3%BC_%EC%B9%A8%EB%AC%B5%EC%9D%98_%EB%82%98%EC%84%A0%EC%9D%B4%EB%A1%A0_%EC%97%B0%EA%B3%84%EC%84%B1\n",
    "\n",
    "가설 1) 미디어가 끼치는 영향을 나는 영향을 별로 남일수록 더 많이 받는다고 생각한다. 나로부터 점점 멀어질 수록(사회적 거리) 미디어 영향력은 커진다\n",
    "\n",
    "가설 2) 같은 지역에 사는 타인일 경우보다 한국 국민 전체일 경우 더 크게 나타날 것이다\n",
    "\n",
    "**침묵의 나선 이론 (노엘노이먼): 자신이 소수라고 인지하면 여론조사에서, 침묵 & 다수이면 의면 표명 증가**\n",
    "\n",
    "변인(관계에 따라) \n",
    "= 독립변인`IV`->종속변인`DV`      , + `control variable` + MEdiating variable\n",
    "\n",
    "변인(측정법에따라)\n",
    "= nominal ordinal ratio interval \n",
    "\n",
    "\n",
    "## 가설\n",
    "\n",
    "http://commres.net/wiki/hypothesis\n",
    "\n",
    "가설의 요건\n",
    "가설은 반드시 두 가지 이상의 변인 (variables) 간의 관계에 대한 선언 혹은 예측이어야 한다.\n",
    "가설은 선언문의 형식을 가져야 한다. 연구문제와 같이 의문문의 형식을 가질 수는 없다. 또한 가설은 두개 이상의 변인 (variables) 간의 관계를 구체적으로 제시하는 것이어야 한다. 두 개 이상의 변인 간의 관계에서 말에서 관계는 보통 `차이 (difference)`, `관련 (association)` 으로 표현된다. 이 두 개념은 말 그대로를 받아들이면 된다. 차이는 말그대로 어느 한 변인이 내포하고 있는 특성 간의 다른 변인에 대한 차이를 의미한다. 아래의 가설을 살펴보자.\n",
    "\n",
    "\n",
    "## Operationalization 조작화\n",
    "\n",
    "변인을 "
   ]
  },
  {
   "cell_type": "markdown",
   "metadata": {},
   "source": [
    "# CH02 Descriptive Statistics\n",
    "\n",
    "\n",
    "+ `평균`: mean\n",
    "+ `mode`:  최빈값(숫자 변인 뿐아니라, 종류 변인에서도 사용된다.) \n",
    "+ `median` : 중간값 (수를 sorting하고 가운데 값을 찾는것)\n",
    "\n",
    "평균: 편리하지만 한계도 뚜렷하다. 평균은 자료의 대략적인 모습을 요약해서 보여줄 수 있는 반면 자료의 비대칭성이 있을 때는 잘못된 결과. (좌우 대칭형 자료에서 대표값이 평균, 비대칭한 경우에는 case들을 outlier시켜서 분석 시작도 가능하다. 비대칭의 경우에는 median값 사용하면 된다.)\n",
    "\n",
    "sigma = 그리스의 s -> sum\n",
    "\n",
    "+ `표준편차` : spread, 하나의 숫자로 어떤 집단이 얼만큼 퍼져있는지 표시가능하다.\n",
    "\n",
    "+ `deviation score(ds)`: 각\n",
    "\n",
    "+ `분산값(퍼진정도)` : 1/n * sigma(ds^2), 그리스 small s^2\n",
    "\n",
    "+ `표준편차(standard deviation)` : sqrt(분산값) = small s(sigma)\n",
    "\n",
    "+ 모집단의 평균 = 그리스 small m (mou ,population)  $ \\mou $\n",
    "\n",
    "+ sample의 평균 = $ \\bar{X} $\n",
    "\n",
    "+ sample s.d = s\n",
    "\n",
    "+ sample 분산값 = s^2 ,  1/(n-1) * sigma(ds^2), SS(sum of squares)/degrees of freedom\n",
    "\n",
    "\n",
    "** $ \\frac{SS}{df} $ **\n",
    "\n",
    "\n",
    "n(모집단) \n",
    "\n",
    "\n",
    "if sd(표준편차)가 5, mean =40이면 40 +_5 범위에 소속된 녀석들 \n",
    "+ +-5  = 65%\n",
    "+ +-10 = 95%\n",
    "+ +-15 = 99%\n",
    "\n",
    "+ 표준점수란: (Xi - mean)/ small sigma(sd) => 평균 0, sd가 1인 분포가 생성됨\n",
    "\n",
    "\n",
    "\n"
   ]
  },
  {
   "cell_type": "code",
   "execution_count": null,
   "metadata": {},
   "outputs": [],
   "source": [
    "import mathplotlib.pyplot as plt\n",
    "import numpy as np\n",
    "\n",
    "x = np.array([])\n",
    "y\n",
    "e\n",
    "\n",
    "plt.e"
   ]
  }
 ],
 "metadata": {
  "kernelspec": {
   "display_name": "Python 3",
   "language": "python",
   "name": "python3"
  },
  "language_info": {
   "codemirror_mode": {
    "name": "ipython",
    "version": 3
   },
   "file_extension": ".py",
   "mimetype": "text/x-python",
   "name": "python",
   "nbconvert_exporter": "python",
   "pygments_lexer": "ipython3",
   "version": "3.6.5"
  }
 },
 "nbformat": 4,
 "nbformat_minor": 2
}
