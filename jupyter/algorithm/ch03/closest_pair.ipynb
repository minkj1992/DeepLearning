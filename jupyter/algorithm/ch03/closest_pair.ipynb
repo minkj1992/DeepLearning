{
 "cells": [
  {
   "cell_type": "code",
   "execution_count": 20,
   "metadata": {},
   "outputs": [],
   "source": [
    "import sys\n",
    "import math\n",
    "# BruteForceClosestPair(p)\n",
    "# P1 ~ Pn (n개)\n",
    "# input P =  [(12,30), (40, 50), (5, 1), (12, 10), (3,4)] \n",
    "def dis(i,j):\n",
    "    return math.sqrt((i[0]-j[0])**2+(i[1]-j[1])**2)\n",
    "\n",
    "def closest_pair1(P):\n",
    "    d = sys.maxsize\n",
    "    n = len(P)\n",
    "    \n",
    "    for i in range(n-1):\n",
    "        for j in range(i+1,n):\n",
    "            print(P[i],P[j])\n",
    "\n",
    "#             if dis(P[i],P[j])<d:\n",
    "#                 d = dis(P[i],P[j])\n",
    "#     return float(\"{:.2f}\".format(d))"
   ]
  },
  {
   "cell_type": "code",
   "execution_count": 21,
   "metadata": {},
   "outputs": [
    {
     "name": "stdout",
     "output_type": "stream",
     "text": [
      "(12, 30) (40, 50)\n",
      "(12, 30) (5, 1)\n",
      "(12, 30) (12, 10)\n",
      "(12, 30) (3, 4)\n",
      "(40, 50) (5, 1)\n",
      "(40, 50) (12, 10)\n",
      "(40, 50) (3, 4)\n",
      "(5, 1) (12, 10)\n",
      "(5, 1) (3, 4)\n",
      "(12, 10) (3, 4)\n"
     ]
    }
   ],
   "source": [
    "P = [(12,30), (40, 50), (5, 1), (12, 10), (3,4)] \n",
    "closest_pair1(P)"
   ]
  },
  {
   "cell_type": "code",
   "execution_count": null,
   "metadata": {},
   "outputs": [],
   "source": [
    "#  2d sparse hyperplane \n",
    "#  http://www.cs.ucsb.edu/~suri/cs235/ClosestPair.pdf\n",
    "def closest_pair2(P):\n",
    "    "
   ]
  }
 ],
 "metadata": {
  "kernelspec": {
   "display_name": "Python 3",
   "language": "python",
   "name": "python3"
  },
  "language_info": {
   "codemirror_mode": {
    "name": "ipython",
    "version": 3
   },
   "file_extension": ".py",
   "mimetype": "text/x-python",
   "name": "python",
   "nbconvert_exporter": "python",
   "pygments_lexer": "ipython3",
   "version": "3.6.5"
  }
 },
 "nbformat": 4,
 "nbformat_minor": 2
}
