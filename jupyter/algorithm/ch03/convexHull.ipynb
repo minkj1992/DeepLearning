{
 "cells": [
  {
   "cell_type": "code",
   "execution_count": 4,
   "metadata": {},
   "outputs": [
    {
     "ename": "SyntaxError",
     "evalue": "unexpected EOF while parsing (<ipython-input-4-66375cc9898a>, line 7)",
     "output_type": "error",
     "traceback": [
      "\u001b[0;36m  File \u001b[0;32m\"<ipython-input-4-66375cc9898a>\"\u001b[0;36m, line \u001b[0;32m7\u001b[0m\n\u001b[0;31m    for j in range(i+1,n):\u001b[0m\n\u001b[0m                          ^\u001b[0m\n\u001b[0;31mSyntaxError\u001b[0m\u001b[0;31m:\u001b[0m unexpected EOF while parsing\n"
     ]
    }
   ],
   "source": [
    "# brute force find convexHull\n",
    "class findConvexHull():\n",
    "    n\n",
    "    P \n",
    "    c_points\n",
    "    \n",
    "    def __init__(self,P):\n",
    "        self.n = len(P)\n",
    "        self.P = P\n",
    "        self.c_points = []\n",
    "#     n-1번 반복한다, 맨 끝에것은 사용하지 않는다.\n",
    "    \n",
    "    def find(self):\n",
    "        for i in range(n-1):\n",
    "    #         현재 위치에서 +1 부터 끝까지 확인\n",
    "            for j in range(i+1,n):\n",
    "                a,b = polyline(i,j)\n",
    "                if(isArea(a,b,i,j)):\n",
    "                     c_points.append(zip(P[i],P[j]))\n",
    "        return c_points\n",
    "\n",
    "    # i와 j를 제외한 나머지 point들이 line ij\n",
    "    def isArea(self,a,b,i,j):\n",
    "#         그래프 상에서 왼쪽에 있을지 오른쪽에 있을지 판단 \n",
    "\n",
    "        for k in range(n):\n",
    "            if (k == i ||k == j):\n",
    "                pass\n",
    "            else:\n",
    "                *P[k][]\n",
    "                return true\n",
    "                \n",
    "        return false\n",
    "    \n",
    "    def polyline(self,i,j):\n",
    "        a = (P[i][0]-P[j][0]/P[i][1]-P[j][1])\n",
    "        b = P[i][1] - a*P[i][0]\n",
    "        \n",
    "        return a,b\n",
    "        \n",
    "\n",
    "                   \n"
   ]
  },
  {
   "cell_type": "markdown",
   "metadata": {},
   "source": [
    "Brute force 한 방법은, \n",
    "\n",
    "pivot (0~ n-1)\n",
    "partner( i+1, n)\n",
    "search(자신을 제외한 나머지 점)"
   ]
  },
  {
   "cell_type": "code",
   "execution_count": 5,
   "metadata": {},
   "outputs": [
    {
     "name": "stdout",
     "output_type": "stream",
     "text": [
      "0 0\n",
      "0 1\n",
      "1 0\n",
      "1 1\n",
      "2 0\n",
      "2 1\n",
      "3 0\n",
      "3 1\n",
      "4 0\n",
      "4 1\n",
      "5 0\n",
      "5 1\n",
      "6 0\n",
      "6 1\n",
      "7 0\n",
      "7 1\n",
      "8 0\n",
      "8 1\n",
      "9 0\n",
      "9 1\n"
     ]
    }
   ],
   "source": [
    "\n",
    "        "
   ]
  },
  {
   "cell_type": "code",
   "execution_count": null,
   "metadata": {},
   "outputs": [],
   "source": []
  }
 ],
 "metadata": {
  "kernelspec": {
   "display_name": "Python 3",
   "language": "python",
   "name": "python3"
  },
  "language_info": {
   "codemirror_mode": {
    "name": "ipython",
    "version": 3
   },
   "file_extension": ".py",
   "mimetype": "text/x-python",
   "name": "python",
   "nbconvert_exporter": "python",
   "pygments_lexer": "ipython3",
   "version": "3.6.5"
  }
 },
 "nbformat": 4,
 "nbformat_minor": 2
}
