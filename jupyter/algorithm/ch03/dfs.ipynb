{
 "cells": [
  {
   "cell_type": "markdown",
   "metadata": {},
   "source": [
    "노드 A에서 시작하여 그래프의 모든 노드를 방문하는 법\n",
    "\n",
    "input: graph, start\n",
    "output: try movement , final path\n",
    "\n",
    "두 노드의 연결관계를 알고싶을 때는 adjacent matrix이 효율적이다.\n"
   ]
  },
  {
   "cell_type": "code",
   "execution_count": 29,
   "metadata": {},
   "outputs": [],
   "source": [
    "# undirected graph\n",
    "\n",
    "\n",
    "def dfs(graph, start):\n",
    "#     visited는 stack을 pop한것.(더 이상의 child가 없을 경우에 pop)\n",
    "    visited = []\n",
    "#     stack은 방문 가능한 순서. 마지막에 모두 pop하여 null이 된다. \n",
    "    stack = [start]\n",
    "    \n",
    "#     모든 곳을 방문할때까지\n",
    "    while stack:\n",
    "        print(\"visited:\"+ str(visited))\n",
    "        print(\"Stack:\" + str(stack))\n",
    "        print(\"\")\n",
    "#         stack에 최신에 들어온 순서부터 pop시킨다.\n",
    "        n = stack.pop()\n",
    "        if n not in visited:\n",
    "            visited.append(n)\n",
    "            stack += graph[n] - set(visited)\n",
    "            \n",
    "#     print(graph[\"A\"])   \n",
    "    return visited\n",
    "\n",
    "def dfs_all(graph,start):\n",
    "    visited = []\n",
    "    stack = [start]\n",
    "    \n",
    "\n",
    "    "
   ]
  },
  {
   "cell_type": "code",
   "execution_count": 30,
   "metadata": {},
   "outputs": [
    {
     "name": "stdout",
     "output_type": "stream",
     "text": [
      "visited:[]\n",
      "Stack:['A']\n",
      "\n",
      "visited:['A']\n",
      "Stack:['C', 'B']\n",
      "\n",
      "visited:['A', 'B']\n",
      "Stack:['C', 'E', 'D']\n",
      "\n",
      "visited:['A', 'B', 'D']\n",
      "Stack:['C', 'E']\n",
      "\n",
      "visited:['A', 'B', 'D', 'E']\n",
      "Stack:['C', 'F']\n",
      "\n",
      "visited:['A', 'B', 'D', 'E', 'F']\n",
      "Stack:['C', 'C']\n",
      "\n",
      "visited:['A', 'B', 'D', 'E', 'F', 'C']\n",
      "Stack:['C']\n",
      "\n",
      "{'C', 'B'}\n"
     ]
    },
    {
     "data": {
      "text/plain": [
       "['A', 'B', 'D', 'E', 'F', 'C']"
      ]
     },
     "execution_count": 30,
     "metadata": {},
     "output_type": "execute_result"
    }
   ],
   "source": [
    "graph = {'A': set(['B', 'C']),\n",
    "         'B': set(['A', 'D', 'E']),\n",
    "         'C': set(['A', 'F']),\n",
    "         'D': set(['B']),\n",
    "         'E': set(['B', 'F']),\n",
    "         'F': set(['C', 'E'])}\n",
    "dfs(graph, 'A')\n",
    "\n"
   ]
  },
  {
   "cell_type": "code",
   "execution_count": 36,
   "metadata": {},
   "outputs": [
    {
     "data": {
      "text/plain": [
       "NoneType"
      ]
     },
     "execution_count": 36,
     "metadata": {},
     "output_type": "execute_result"
    }
   ],
   "source": [
    "type([1,2,3,4].reverse())"
   ]
  },
  {
   "cell_type": "code",
   "execution_count": null,
   "metadata": {},
   "outputs": [],
   "source": []
  }
 ],
 "metadata": {
  "kernelspec": {
   "display_name": "Python 3",
   "language": "python",
   "name": "python3"
  },
  "language_info": {
   "codemirror_mode": {
    "name": "ipython",
    "version": 3
   },
   "file_extension": ".py",
   "mimetype": "text/x-python",
   "name": "python",
   "nbconvert_exporter": "python",
   "pygments_lexer": "ipython3",
   "version": "3.6.5"
  }
 },
 "nbformat": 4,
 "nbformat_minor": 2
}
