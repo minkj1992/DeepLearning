{
 "cells": [
  {
   "cell_type": "code",
   "execution_count": 6,
   "metadata": {},
   "outputs": [],
   "source": [
    "def selectionSort(A):\n",
    "    n = len(A)\n",
    "#     range(j) = j-1까지 포함한다.\n",
    "#     range(n-1) = n-2 까지 index 검사를 한다는 뜻이며, n이 len이기 때문에 n-1이 끝 index이다. 끝 바로 before은 n-2\n",
    "    for i in range(n-1):\n",
    "        for j in range(i+1,n):\n",
    "            print(A)\n",
    "            if A[j]<A[i]:\n",
    "                A[i],A[j] = A[j],A[i]\n",
    "    return A"
   ]
  },
  {
   "cell_type": "code",
   "execution_count": 7,
   "metadata": {},
   "outputs": [
    {
     "name": "stdout",
     "output_type": "stream",
     "text": [
      "[5, 4, 3, 2, 1]\n",
      "[4, 5, 3, 2, 1]\n",
      "[3, 5, 4, 2, 1]\n",
      "[2, 5, 4, 3, 1]\n",
      "[1, 5, 4, 3, 2]\n",
      "[1, 4, 5, 3, 2]\n",
      "[1, 3, 5, 4, 2]\n",
      "[1, 2, 5, 4, 3]\n",
      "[1, 2, 4, 5, 3]\n",
      "[1, 2, 3, 5, 4]\n"
     ]
    },
    {
     "data": {
      "text/plain": [
       "[1, 2, 3, 4, 5]"
      ]
     },
     "execution_count": 7,
     "metadata": {},
     "output_type": "execute_result"
    }
   ],
   "source": [
    "A = [5,4,3,2,1]\n",
    "selectionSort(A)"
   ]
  },
  {
   "cell_type": "code",
   "execution_count": 8,
   "metadata": {},
   "outputs": [
    {
     "name": "stdout",
     "output_type": "stream",
     "text": [
      "[5, 2, 1, 9, 8]\n",
      "[2, 5, 1, 9, 8]\n",
      "[1, 5, 2, 9, 8]\n",
      "[1, 5, 2, 9, 8]\n",
      "[1, 5, 2, 9, 8]\n",
      "[1, 2, 5, 9, 8]\n",
      "[1, 2, 5, 9, 8]\n",
      "[1, 2, 5, 9, 8]\n",
      "[1, 2, 5, 9, 8]\n",
      "[1, 2, 5, 9, 8]\n"
     ]
    },
    {
     "data": {
      "text/plain": [
       "[1, 2, 5, 8, 9]"
      ]
     },
     "execution_count": 8,
     "metadata": {},
     "output_type": "execute_result"
    }
   ],
   "source": [
    "A = [5,2,1,9,8]\n",
    "selectionSort(A)"
   ]
  },
  {
   "cell_type": "markdown",
   "metadata": {},
   "source": [
    "$ C(n) = \\theta(n^2) $\n",
    "\n",
    "selectionsort = 첫 루프에서 가장 작은 값을 가장 앞으로 보내는 방식"
   ]
  },
  {
   "cell_type": "code",
   "execution_count": null,
   "metadata": {},
   "outputs": [],
   "source": []
  }
 ],
 "metadata": {
  "kernelspec": {
   "display_name": "Python 3",
   "language": "python",
   "name": "python3"
  },
  "language_info": {
   "codemirror_mode": {
    "name": "ipython",
    "version": 3
   },
   "file_extension": ".py",
   "mimetype": "text/x-python",
   "name": "python",
   "nbconvert_exporter": "python",
   "pygments_lexer": "ipython3",
   "version": "3.6.5"
  }
 },
 "nbformat": 4,
 "nbformat_minor": 2
}
