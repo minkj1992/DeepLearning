{
 "cells": [
  {
   "cell_type": "code",
   "execution_count": 27,
   "metadata": {},
   "outputs": [],
   "source": [
    "def Fibo(n):\n",
    "    if n <= 1:\n",
    "        return n\n",
    "    else:\n",
    "        return Fibo(n-2)+Fibo(n-1)\n"
   ]
  },
  {
   "cell_type": "markdown",
   "metadata": {},
   "source": [
    "$ C(n) = \\theta(x^n) $"
   ]
  },
  {
   "cell_type": "code",
   "execution_count": 29,
   "metadata": {},
   "outputs": [],
   "source": [
    "# def Fibo2(n):\n",
    "#     _f = []*(n+1)\n",
    "    \n",
    "#     if n <= 0:\n",
    "#         _f[n] = n\n",
    "#     elif n == 1:\n",
    "#         _f[0] = 0\n",
    "#         _f[1] = 1\n",
    "#     else:\n",
    "#         for i in range(2,n+1,1):\n",
    "#             _f[i]=_f[i-1]+_f[i-2]\n",
    "    \n",
    "#     return _f\n",
    "\n",
    "#  재귀 함수가 아니다 헷갈렸네"
   ]
  },
  {
   "cell_type": "code",
   "execution_count": 30,
   "metadata": {},
   "outputs": [],
   "source": [
    "# Iterative algorithm\n",
    "def Fibo2(n):\n",
    "    a,b = 0,1\n",
    "    for i in range(0,n):\n",
    "        a,b = b, a+b\n",
    "    return a"
   ]
  },
  {
   "cell_type": "markdown",
   "metadata": {},
   "source": [
    "$ C(n) = \\theta(n) $"
   ]
  },
  {
   "cell_type": "code",
   "execution_count": 35,
   "metadata": {},
   "outputs": [],
   "source": [
    "# matrix fibo\n",
    "import numpy as np\n",
    "\n",
    "def Fibo3(n):\n",
    "    F = np.matrix([[1,1],[1,0]])\n",
    "    return (F**n)[0,1]"
   ]
  },
  {
   "cell_type": "markdown",
   "metadata": {},
   "source": [
    "+ Cassini and Catalan identities에 의해서 \n",
    "[[1,1][1,0]]^n = [[F(n+1),F(n)],[F(n),F(n-1)]] 꼴로 변환 가능\n",
    "\n",
    "+ matrix의 0승은 단위행렬 (identity matrix [[1,0][0,1]]) 이다\n",
    "\n",
    "$ C(n) = \\theta(log(n))$\n",
    "\n",
    "[참고](https://www.packtpub.com/mapt/book/big_data_and_business_intelligence/9781782166085/5/ch05lvl1sec93/time-for-action--computing-fibonacci-numbers)"
   ]
  },
  {
   "cell_type": "code",
   "execution_count": 39,
   "metadata": {},
   "outputs": [
    {
     "data": {
      "text/plain": [
       "34"
      ]
     },
     "execution_count": 39,
     "metadata": {},
     "output_type": "execute_result"
    }
   ],
   "source": [
    "Fibo3(9)"
   ]
  },
  {
   "cell_type": "code",
   "execution_count": 40,
   "metadata": {},
   "outputs": [
    {
     "data": {
      "text/plain": [
       "34"
      ]
     },
     "execution_count": 40,
     "metadata": {},
     "output_type": "execute_result"
    }
   ],
   "source": [
    "Fibo2(9)"
   ]
  },
  {
   "cell_type": "code",
   "execution_count": 41,
   "metadata": {},
   "outputs": [
    {
     "data": {
      "text/plain": [
       "34"
      ]
     },
     "execution_count": 41,
     "metadata": {},
     "output_type": "execute_result"
    }
   ],
   "source": [
    "Fibo(9)"
   ]
  },
  {
   "cell_type": "code",
   "execution_count": null,
   "metadata": {},
   "outputs": [],
   "source": []
  }
 ],
 "metadata": {
  "kernelspec": {
   "display_name": "Python 3",
   "language": "python",
   "name": "python3"
  },
  "language_info": {
   "codemirror_mode": {
    "name": "ipython",
    "version": 3
   },
   "file_extension": ".py",
   "mimetype": "text/x-python",
   "name": "python",
   "nbconvert_exporter": "python",
   "pygments_lexer": "ipython3",
   "version": "3.6.5"
  }
 },
 "nbformat": 4,
 "nbformat_minor": 2
}
