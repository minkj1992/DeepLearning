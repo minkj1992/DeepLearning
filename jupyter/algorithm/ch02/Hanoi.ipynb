{
 "cells": [
  {
   "cell_type": "code",
   "execution_count": 18,
   "metadata": {},
   "outputs": [],
   "source": [
    "# count number of moving disks\n",
    "def Hanoi(n,r1,r2,r3):\n",
    "    if n == 1:\n",
    "        return 1\n",
    "    if n>1:\n",
    "        # n-1 r2로, 맨밑에 1개 r3로(+1), n-1 r3로\n",
    "        #C(n)= 2*C(n-1)+1 \n",
    "        return Hanoi(n-1,r1,r3,r2) + 1 + Hanoi(n-1,r2,r1,r3)\n",
    "            "
   ]
  },
  {
   "cell_type": "code",
   "execution_count": 20,
   "metadata": {},
   "outputs": [
    {
     "data": {
      "text/plain": [
       "31"
      ]
     },
     "execution_count": 20,
     "metadata": {},
     "output_type": "execute_result"
    }
   ],
   "source": [
    "Hanoi(5,\"r1\",\"r2\",\"r3\")"
   ]
  },
  {
   "cell_type": "markdown",
   "metadata": {},
   "source": [
    "$C(n) = \\theta(2^n)-1$"
   ]
  },
  {
   "cell_type": "code",
   "execution_count": null,
   "metadata": {},
   "outputs": [],
   "source": []
  }
 ],
 "metadata": {
  "kernelspec": {
   "display_name": "Python 3",
   "language": "python",
   "name": "python3"
  },
  "language_info": {
   "codemirror_mode": {
    "name": "ipython",
    "version": 3
   },
   "file_extension": ".py",
   "mimetype": "text/x-python",
   "name": "python",
   "nbconvert_exporter": "python",
   "pygments_lexer": "ipython3",
   "version": "3.6.5"
  }
 },
 "nbformat": 4,
 "nbformat_minor": 2
}
