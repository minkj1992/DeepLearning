{
 "cells": [
  {
   "cell_type": "markdown",
   "metadata": {},
   "source": [
    "# Overview\n",
    "\n",
    "> TensorFlow는 graph로 computation(연산)을 나타내는 프로그래밍 시스템이다.\n",
    "\n",
    "+ graph에 있는 노드는 작업(op, operation)라고 부른다.\n",
    "+ op는 0개 혹은 그 이상의 `Tensor`를 가질 수 있다.\n",
    "+ op는 0개 혹은 그 이상의 `Tensor`를 만들어 내기도 한다.\n",
    "+ `Tensor`는 정형화된 다차원 배열이다.(a typed multi-dimensional array)\n",
    "\n",
    "+ graph에 있는 노드인 op가 실행되기 위해서는 graph가 `Session`상에 실행 되어야한다.\n",
    "+ `Session`은 graph의 op를 cpu나 gpu 같은 `Device`에 배정하고 실행을 위한 메서드들을 제공한다.\n",
    "\n",
    "+ method들은 op를 실행하여 tensor를 만들어 낸다.\n",
    "+ `tensor`는 파이썬에서 numpy의 `ndarray`형식으로 나온다.  \n",
    "\n",
    "\n",
    "# The computation graph(연산 graph)\n",
    "\n",
    "1) 구성단계 (construction phase): graph를 조립\n",
    "2) 실행단계 (execution phase): session을 이용해 graph의 op를 실행\n",
    "\n",
    "\n",
    "# Building the graph(그래프 만들기)\n",
    "\n",
    "graph를 만드는 것은 상수(constant) 같이 아무 입력값이 필요없는 op를 정의하는 것에서부터 시작한다. 이 op를 연산이 필요한 다른 op들에게 입력값으로 제공한다.\n",
    "\n",
    "파이썬 라이브러리의 op constructor(작업 생성함수)는 만들어진 op들의 결과값을 반환함.\n",
    "파이썬 라이브러리에는 op constructor로 노드를 추가할 수 있는 default graph라는 것이 있다."
   ]
  },
  {
   "cell_type": "code",
   "execution_count": 2,
   "metadata": {},
   "outputs": [],
   "source": [
    "import tensorflow as tf\n",
    "\n",
    "# 1X2 matrix\n",
    "# 이 op는 default graph에 노드로 들어갈 것이다.\n",
    "# op constructor에서 나온 값은 constant op의 결과값이다.\n",
    "matrix1 = tf.constant([[3.,3.]])\n",
    "\n",
    "# 2x1 matrix을 만드는 constant op\n",
    "matrix2 = tf.constant([[2.],[2.]])\n",
    "\n",
    "product = tf.matmul(matrix1, matrix2)"
   ]
  },
  {
   "cell_type": "code",
   "execution_count": null,
   "metadata": {},
   "outputs": [],
   "source": []
  }
 ],
 "metadata": {
  "kernelspec": {
   "display_name": "tensorflow",
   "language": "python",
   "name": "tensorflow"
  },
  "language_info": {
   "codemirror_mode": {
    "name": "ipython",
    "version": 3
   },
   "file_extension": ".py",
   "mimetype": "text/x-python",
   "name": "python",
   "nbconvert_exporter": "python",
   "pygments_lexer": "ipython3",
   "version": "3.6.6"
  }
 },
 "nbformat": 4,
 "nbformat_minor": 2
}
