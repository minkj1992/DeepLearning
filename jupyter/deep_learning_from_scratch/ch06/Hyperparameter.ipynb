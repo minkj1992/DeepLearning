{
 "cells": [
  {
   "cell_type": "markdown",
   "metadata": {},
   "source": [
    "# 6.5 적절한 하이퍼파라미터 값 찾기\n",
    "\n",
    "## 6.5.1 검증 데이터\n",
    "\n",
    "지금까지는 test, train으로 데이터를 나누었는데 앞으로 하이퍼파라미터의 성능을 평가할 데이터가 필요하게 된다(validation data)\n",
    "\n",
    "+ 훈련데이터 : 매개변수 학습\n",
    "+ 검증데이터 : 하이퍼파라미터 성능 평가\n",
    "+ 시험 데이터 : 신경망의 범용 성능 평가(하이퍼파라미터 성능을 평가하면, overfitting이 발생하게 됨)\n",
    "\n",
    "+ 가장 간단한 방법은 훈련데이터 중 20%을 검증데이터로 먼저 분리하는 것\n",
    "\n",
    "기억할 점은 데이터 추출하기전에 먼저 shuffle을 하여 데이터를 섞어 놓는다. 혹시라도 데이터가 오름차순등으로 정렬되어 있을 수 있으니까.\n",
    "\n"
   ]
  }
 ],
 "metadata": {
  "kernelspec": {
   "display_name": "Python 3",
   "language": "python",
   "name": "python3"
  },
  "language_info": {
   "codemirror_mode": {
    "name": "ipython",
    "version": 3
   },
   "file_extension": ".py",
   "mimetype": "text/x-python",
   "name": "python",
   "nbconvert_exporter": "python",
   "pygments_lexer": "ipython3",
   "version": "3.6.5"
  }
 },
 "nbformat": 4,
 "nbformat_minor": 2
}
