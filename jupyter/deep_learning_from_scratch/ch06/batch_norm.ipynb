{
 "cells": [
  {
   "cell_type": "markdown",
   "metadata": {},
   "source": [
    "# 6.3 배치 정규화\n",
    "\n",
    "각 층이 활성화를 적당히 퍼뜨리도록 **\"강제\"** 하는것 \n",
    "\n",
    "`배치 정규화 알고리즘` = 데이터 분포를 정규화하는 `배치 정규화 계층(Batch Norm layer)` 여러개를 신경망에 삽입하는 것.\n",
    "\n",
    "+ 학습을 빨리 진행 시킬 수 있다. (학습속도 개선)\n",
    "+ 초깃값에 크게 의존하지 않는다. ( 골치 아픈 초깃값 선택 장애 bye)\n",
    "+ 오버피팅을 억제한다.( 드롭아웃 등의 필요성 감소)\n",
    "\n",
    "각 미니 배치에 따라서 정규화를 시키는데, 입력데이터에 대하여 평균0,분산1인 데이터로 형태를 변환시킨다. \n",
    "\n",
    "또한 배칭 정규화 계층마다 이 정규화된 데이터에 고유한 확대(scale)와 이동(shift)변환을 수행한다."
   ]
  }
 ],
 "metadata": {
  "kernelspec": {
   "display_name": "tensorflow",
   "language": "python",
   "name": "tensorflow"
  },
  "language_info": {
   "codemirror_mode": {
    "name": "ipython",
    "version": 3
   },
   "file_extension": ".py",
   "mimetype": "text/x-python",
   "name": "python",
   "nbconvert_exporter": "python",
   "pygments_lexer": "ipython3",
   "version": "3.6.6"
  }
 },
 "nbformat": 4,
 "nbformat_minor": 2
}
