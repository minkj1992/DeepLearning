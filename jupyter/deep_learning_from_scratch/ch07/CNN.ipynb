{
 "cells": [
  {
   "cell_type": "markdown",
   "metadata": {},
   "source": [
    "# 07 합성곱 신경망(CNN)\n",
    "\n",
    "## 7.1 전체구조\n",
    "\n",
    "+ `CNN = convolutional neural network` = 합성곱 계층 + 풀링 계층\n",
    "\n",
    "\n",
    "+ `합성곱 계층 = convolutional layer`\n",
    "\n",
    "\n",
    "+ `풀링 계층 = pooling layer`\n",
    "\n"
   ]
  },
  {
   "cell_type": "code",
   "execution_count": null,
   "metadata": {},
   "outputs": [],
   "source": []
  }
 ],
 "metadata": {
  "kernelspec": {
   "display_name": "Python 3",
   "language": "python",
   "name": "python3"
  },
  "language_info": {
   "codemirror_mode": {
    "name": "ipython",
    "version": 3
   },
   "file_extension": ".py",
   "mimetype": "text/x-python",
   "name": "python",
   "nbconvert_exporter": "python",
   "pygments_lexer": "ipython3",
   "version": "3.6.5"
  }
 },
 "nbformat": 4,
 "nbformat_minor": 2
}
